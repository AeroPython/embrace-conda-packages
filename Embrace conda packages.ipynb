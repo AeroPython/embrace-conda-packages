{
 "cells": [
  {
   "cell_type": "markdown",
   "metadata": {
    "slideshow": {
     "slide_type": "slide"
    }
   },
   "source": [
    "![PyData_logo](./static/pydata-logo-madrid-2016.png)\n",
    "\n",
    "# Embrace conda packages\n",
    "\n",
    "## The build system we always needed, but never deserved\n",
    "\n",
    "###### Juan Luis Cano Rodríguez\n",
    "###### Madrid, 2016-04-08"
   ]
  },
  {
   "cell_type": "markdown",
   "metadata": {
    "slideshow": {
     "slide_type": "slide"
    }
   },
   "source": [
    "## Outline\n",
    "\n",
    "* Introduction\n",
    "* Motivation: What brought us here?\n",
    "* Our first conda package\n",
    "* Build, test, upload, repeat\n",
    "* Some advanced tricks\n",
    "* Working with other languages\n",
    "* conda-forge: a community repository\n",
    "* Limitations and future work\n",
    "* Conclusions"
   ]
  },
  {
   "cell_type": "markdown",
   "metadata": {
    "slideshow": {
     "slide_type": "slide"
    }
   },
   "source": [
    "## Who is this guy?\n",
    "\n",
    "<img src=\"static/juanlu.jpg\" width=\"350px\" style=\"float: right\" />\n",
    "\n",
    "* _Almost_ **Aerospace Engineer**\n",
    "* Writer and furious tweeter at **Pybonacci**\n",
    "* Chair ~~and BDFL~~ of **Python España**\n",
    "* Co-creator of **AeroPython** (\\*not the Lorena Barba course)\n",
    "* _Occasionally writes some Python code_"
   ]
  },
  {
   "cell_type": "markdown",
   "metadata": {
    "slideshow": {
     "slide_type": "slide"
    }
   },
   "source": [
    "## Motivation: What brought us here?"
   ]
  },
  {
   "cell_type": "markdown",
   "metadata": {
    "slideshow": {
     "slide_type": "fragment"
    }
   },
   "source": [
    "### _...or: \"The sad state of scientific software\"_"
   ]
  },
  {
   "cell_type": "markdown",
   "metadata": {
    "slideshow": {
     "slide_type": "subslide"
    }
   },
   "source": [
    "## An inconvenient truth: \n",
    "\n",
    "# Properly distributing software libraries is very hard"
   ]
  },
  {
   "cell_type": "markdown",
   "metadata": {
    "slideshow": {
     "slide_type": "subslide"
    }
   },
   "source": [
    "### Result:\n",
    "\n",
    "<img src=\"static/keep-calm-it-works-on-my-machine.png\" width=\"400px\" style=\"margin: 0 auto;\" />"
   ]
  },
  {
   "cell_type": "markdown",
   "metadata": {
    "slideshow": {
     "slide_type": "subslide"
    }
   },
   "source": [
    "## What horror have we created\n",
    "\n",
    "> If you’re missing a library or program, and that library or program happens to be written in C, **you either need root to install it from your package manager, or you will descend into a lovecraftian nightmare of attempted local builds from which there is no escape**. You say you need lxml on shared hosting and they don’t have libxml2 installed? Well, fuck you.\n",
    ">\n",
    "> — Eevee, [\"The sad state of web app deployment\"](https://eev.ee/blog/2015/09/17/the-sad-state-of-web-app-deployment/)"
   ]
  },
  {
   "cell_type": "markdown",
   "metadata": {
    "slideshow": {
     "slide_type": "subslide"
    }
   },
   "source": [
    "## Are virtual machines and containers the solution?\n",
    "\n",
    "> _\"It's easy to build a VM if you automate the install process, and providing that install script for even one OS can demystify the install process for others; conversely, **just because you provide a VM doesn't mean that anyone other than you can install your software**\"_\n",
    ">\n",
    "> — C. Titus Brown, [\"Virtual machines considered harmful for reproducibility\"](http://ivory.idyll.org/blog/vms-considered-harmful.html)"
   ]
  },
  {
   "cell_type": "markdown",
   "metadata": {
    "slideshow": {
     "slide_type": "slide"
    }
   },
   "source": [
    "## Our first conda package"
   ]
  },
  {
   "cell_type": "code",
   "execution_count": 1,
   "metadata": {
    "collapsed": false,
    "slideshow": {
     "slide_type": "fragment"
    }
   },
   "outputs": [
    {
     "name": "stdout",
     "output_type": "stream",
     "text": [
      "Using Anaconda Cloud api site https://api.anaconda.org\n",
      "Fetching package metadata: ........\n",
      "Solving package specifications: .........\n",
      "\n",
      "# All requested packages already installed.\n",
      "# packages in environment at /home/juanlu/.miniconda3:\n",
      "#\n",
      "conda-build               1.20.0                   py34_0  \n"
     ]
    }
   ],
   "source": [
    "!conda install -y conda-build -q -n root"
   ]
  },
  {
   "cell_type": "markdown",
   "metadata": {
    "slideshow": {
     "slide_type": "slide"
    }
   },
   "source": [
    "## Build, test, upload, repeat"
   ]
  },
  {
   "cell_type": "markdown",
   "metadata": {
    "slideshow": {
     "slide_type": "slide"
    }
   },
   "source": [
    "## Some advanced tricks"
   ]
  },
  {
   "cell_type": "markdown",
   "metadata": {
    "slideshow": {
     "slide_type": "slide"
    }
   },
   "source": [
    "## Working with other languages"
   ]
  },
  {
   "cell_type": "markdown",
   "metadata": {
    "slideshow": {
     "slide_type": "fragment"
    }
   },
   "source": [
    "### _or: conda as a cross-platform package manager_"
   ]
  },
  {
   "cell_type": "markdown",
   "metadata": {
    "slideshow": {
     "slide_type": "slide"
    }
   },
   "source": [
    "## conda-forge: a community repository"
   ]
  },
  {
   "cell_type": "markdown",
   "metadata": {
    "slideshow": {
     "slide_type": "slide"
    }
   },
   "source": [
    "## Limitations and future work"
   ]
  },
  {
   "cell_type": "markdown",
   "metadata": {
    "slideshow": {
     "slide_type": "slide"
    }
   },
   "source": [
    "## Conclusions "
   ]
  },
  {
   "cell_type": "markdown",
   "metadata": {
    "slideshow": {
     "slide_type": "slide"
    }
   },
   "source": [
    "# Thanks for yor attention! \n",
    "\n",
    "![PyData_logo](./static/pydata-logo-madrid-2016.png)\n",
    "\n",
    "## Any Questions?"
   ]
  }
 ],
 "metadata": {
  "celltoolbar": "Slideshow",
  "kernelspec": {
   "display_name": "Python 3",
   "language": "python",
   "name": "python3"
  },
  "language_info": {
   "codemirror_mode": {
    "name": "ipython",
    "version": 3
   },
   "file_extension": ".py",
   "mimetype": "text/x-python",
   "name": "python",
   "nbconvert_exporter": "python",
   "pygments_lexer": "ipython3",
   "version": "3.5.1"
  }
 },
 "nbformat": 4,
 "nbformat_minor": 0
}
